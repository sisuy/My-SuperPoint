{
 "cells": [
  {
   "cell_type": "code",
   "execution_count": 1,
   "id": "fe70fc82",
   "metadata": {},
   "outputs": [
    {
     "name": "stderr",
     "output_type": "stream",
     "text": [
      "c:\\env\\Anaconda\\envs\\deeplearning\\lib\\site-packages\\tqdm\\auto.py:22: TqdmWarning: IProgress not found. Please update jupyter and ipywidgets. See https://ipywidgets.readthedocs.io/en/stable/user_install.html\n",
      "  from .autonotebook import tqdm as notebook_tqdm\n"
     ]
    }
   ],
   "source": [
    "import torch\n",
    "import numpy"
   ]
  },
  {
   "cell_type": "code",
   "execution_count": null,
   "id": "f06b7eee",
   "metadata": {},
   "outputs": [],
   "source": [
    "def descriptor_loss(config,descriptor,warped_descriptor,homographic,valid_mask=None,device='cpu'):\n",
    "    \"\"\"\n",
    "    Parameter:\n",
    "        descriptor: [B,C,W/8,H/8]\n",
    "        warped_descriptor: [B,C,W/8,H/8]\n",
    "        valid_mask: [B,W,H]\n",
    "        homographic: [B,3,3]\n",
    "    Return:\n",
    "        loss: torch.float \n",
    "    \"\"\"\n",
    "    l_d = config['lambda_d']\n",
    "    positive_margin = config['positive_margin']\n",
    "    negative_margin = config['negative_margin']\n",
    "    \n",
    "    "
   ]
  },
  {
   "cell_type": "code",
   "execution_count": 2,
   "id": "ff4d2bec",
   "metadata": {},
   "outputs": [],
   "source": [
    "if __name__==\"__main__\":\n",
    "\tconfig = {  'grid_size': 8,\n",
    "\t \t\t    'loss': {'positive_margin': 1.0,\n",
    "\t\t\t  \t\t    'negative_margin': 0.2,\n",
    "\t\t\t\t\t    'lambda_d': 0.05,\n",
    "\t\t\t\t\t    'lambda_loss': 10000},\n",
    "\t\t\t\t'epoch': 8,\n",
    "\t\t\t\t'base_lr': 0.001,\n",
    "\t\t\t\t'train_batch_size': 2,\n",
    "\t\t\t\t'test_batch_size': 2,\n",
    "\t\t\t\t'save_dir': './export/',\n",
    "\t\t\t\t'model_name': 'superpoint'}\n",
    "\t"
   ]
  }
 ],
 "metadata": {
  "kernelspec": {
   "display_name": "deeplearning",
   "language": "python",
   "name": "python3"
  },
  "language_info": {
   "codemirror_mode": {
    "name": "ipython",
    "version": 3
   },
   "file_extension": ".py",
   "mimetype": "text/x-python",
   "name": "python",
   "nbconvert_exporter": "python",
   "pygments_lexer": "ipython3",
   "version": "3.9.16"
  },
  "vscode": {
   "interpreter": {
    "hash": "7cdabc9f48d1cc074dc6e50e12058eb1f2ca4835d1066f9c068209b0daeb0472"
   }
  }
 },
 "nbformat": 4,
 "nbformat_minor": 5
}
